{
 "cells": [
  {
   "cell_type": "code",
   "execution_count": 1,
   "metadata": {
    "collapsed": true
   },
   "outputs": [],
   "source": [
    "from SolrClient import SolrClient"
   ]
  },
  {
   "cell_type": "code",
   "execution_count": 57,
   "metadata": {
    "collapsed": true
   },
   "outputs": [],
   "source": [
    "query_list = ['Brexit','NASDAQ','NBA','Snapchat','Illegal Immigration','Donald Trump','Justin Bieber','NASA']\n",
    "\n",
    "dict_default_id=dict()\n",
    "dict_default_url=dict()\n",
    "dict_page_rank_id = dict()\n",
    "dict_page_rank_url=dict()\n",
    "dict_default=dict()\n",
    "dict_page_rank = dict()\n",
    "\n",
    "dict_overlap=dict()\n",
    "\n",
    "solr = SolrClient('http://localhost:8983/solr')\n",
    "\n",
    "for i in range(8):\n",
    "    res_default = solr.query('myexample',{\n",
    "            'q':query_list[i],\n",
    "        })\n",
    "    res_page_rank = solr.query('myexample',{\n",
    "            'q':query_list[i],\n",
    "            'sort': 'pageRankFile desc',\n",
    "    })\n",
    "    \n",
    "    \n",
    "#     dict_default_id[query_list[i]] = res_default.docs[0]['id']\n",
    "#     dict_default_url[query_list[i]] = res_default.docs[0]['og_url']\n",
    "#     dict_page_rank_id[query_list[i]] = res_page_rank[0]['id']\n",
    "#     dict_page_rank_url[query_list[i]] = res_page_rank[0]['og_url']\n",
    "    value_list_default=[]\n",
    "    value_list_page_rank=[]\n",
    "    for j in range(10):\n",
    "        #print(i,j)\n",
    "        value_list_default.append(res_default.docs[j]['id'])\n",
    "        value_list_page_rank.append(res_page_rank.docs[j]['id'])\n",
    "    dict_default[query_list[i]] = value_list_default # + '\\n' + str(res_default.docs[j]['og_url'])\n",
    "    dict_page_rank[query_list[i]] = value_list_page_rank# + '\\n' + str(res_page_rank.docs[j]['og_url'])\n",
    "    \n",
    "    \n",
    "    set_default=set()\n",
    "    set_page_rank = set()\n",
    "    set_default.update(value_list_default)\n",
    "    set_page_rank.update(value_list_page_rank)\n",
    "    dict_overlap[query_list[i]] = set_default.intersection(set_page_rank)\n",
    "    \n",
    "        \n"
   ]
  },
  {
   "cell_type": "code",
   "execution_count": 58,
   "metadata": {
    "collapsed": true,
    "scrolled": false
   },
   "outputs": [],
   "source": [
    "with open('query_result.txt','w') as f:\n",
    "    f.write('Default Query Result\\n')\n",
    "    f.write('\\n')\n",
    "    for key, value in dict_default.items():\n",
    "        f.write(str(key))\n",
    "        f.write('\\n')\n",
    "        for i in value:\n",
    "            f.write(str(i)+'\\n')\n",
    "        #f.write(str(value))\n",
    "    f.write('\\nPageRank Query Result\\n')\n",
    "    f.write('\\n')\n",
    "    for key, value in dict_page_rank.items():\n",
    "        f.write(str(key))\n",
    "        f.write('\\n')\n",
    "        for i in value:\n",
    "            f.write(str(i)+'\\n')\n",
    "\n",
    "# res = solr.query('myexample',{\n",
    "#             'q':'Donald Trump',\n",
    "#         })\n",
    "\n",
    "# res.docs"
   ]
  },
  {
   "cell_type": "code",
   "execution_count": 59,
   "metadata": {
    "collapsed": true
   },
   "outputs": [],
   "source": [
    "with open('overlap.txt','w') as f:\n",
    "    f.write('Overlap for each Query\\n')\n",
    "    for key, value in dict_overlap.items():\n",
    "        f.write(str(key))\n",
    "        f.write('\\n')\n",
    "        for i in value:\n",
    "            f.write(str(i)+'\\n')"
   ]
  },
  {
   "cell_type": "code",
   "execution_count": 60,
   "metadata": {
    "collapsed": true
   },
   "outputs": [],
   "source": [
    "res = solr.query('myexample',{\n",
    "            'q':'Donald Trump',\n",
    "            'sort':'pageRankFile desc'\n",
    "            'start':0,\n",
    "            'rows':1000,\n",
    "        })\n",
    "\n",
    "a=res.docs[1]['id'][0]\n",
    "b=res.docs[1]['id']"
   ]
  },
  {
   "cell_type": "code",
   "execution_count": 61,
   "metadata": {
    "scrolled": false
   },
   "outputs": [
    {
     "name": "stdout",
     "output_type": "stream",
     "text": [
      "[{'apple_itunes_app': ['app-id=319740707, app-argument=http://www.nbcnews.com/news/us-news/nbc-affiliates-n19981'], 'dc_date_issued': ['2014-01-31T00:00:00Z'], 'content_type': ['text/html; charset=UTF-8'], 'title': ['NBC Affiliates - NBC News'], 'twitter_creator': ['NBCNews'], 'twitter_card': ['summary'], 'fb_app_id': [10150138890205613], 'dc_title': ['NBC Affiliates - NBC News'], 'og_site_name': ['NBC News'], 'twitter_title': ['NBC Affiliates'], 'stream_size': [137114], 'og_type': ['article'], 'x_ua_compatible': ['IE=edge'], 'twitter_site': ['NBCNews'], 'news_keywords': ['News,U.S. news'], 'og_title': ['NBC Affiliates'], '_version_': 1563864660169457664, 'og_description': ['AlabamaWVTM P.O. Box 10502 Birmingham, AL 35209 http://www.nbc13.comWAFF P.O. Box 2116 Huntsville, AL 35801 http://www.waff.comWPMI 6610 Azalea Rd. Mo'], 'description': ['AlabamaWVTM P.O. Box 10502 Birmingham, AL 35209 http://www.nbc13.comWAFF P.O. Box 2116 Huntsville, AL 35801 http://www.waff.comWPMI 6610 Azalea Rd. Mo'], 'resourcename': ['/home/angus/work/mastercourse/572/hw4/NBCNewsData/NBCNewsDownloadData/a86559ae-4237-414e-bb68-79d516a65a03.html'], 'x_parsed_by': ['org.apache.tika.parser.DefaultParser', 'org.apache.tika.parser.html.HtmlParser'], 'viewport': ['width=device-width, initial-scale=1'], 'twitter_description': ['AlabamaWVTM P.O. Box 10502 Birmingham, AL 35209 http://www.nbc13.comWAFF P.O. Box 2116 Huntsville, AL 35801 http://www.waff.comWPMI 6610 Azalea Rd. Mo'], 'google_site_verification': ['dMf4cxtcxKlWchKvPlULwDZi8XpI9-ARqe8j2mGmi4Y', 'K8bowvEbzWfPQ76x6f9SCxMVwicVXrhiClRg80ak8ZA', 'G4SGIUDh2TcgDVNjuleQ-Humwb3JAZaQD9Vg42Stfn8'], 'id': '/home/angus/work/mastercourse/572/hw4/NBCNewsData/NBCNewsDownloadData/a86559ae-4237-414e-bb68-79d516a65a03.html', 'twitter_image': ['http://nodeassets.nbcnews.com/images/og-nbcnews200x200.gif'], 'blitz': ['mu-e1e842c9-946002e6-ea8f0454-41b29546'], 'article_author': ['https://www.facebook.com/NBCNews'], 'og_image': ['http://nodeassets.nbcnews.com/images/og-nbcnews200x200.gif'], 'og_url': ['http://www.nbcnews.com/news/us-news/nbc-affiliates-n19981'], 'content_encoding': ['UTF-8'], 'stream_content_type': ['text/html']}, {'apple_itunes_app': ['app-id=319740707, app-argument=http://www.nbcnews.com/news/us-news/officials-race-against-rains-prevent-california-dam-disaster-n720521'], 'dc_date_issued': ['2017-02-14T00:00:00Z'], 'content_type': ['text/html; charset=UTF-8'], 'title': ['California Residents Allowed to Return Home After Dam Spurs Evacuation - NBC News'], 'twitter_creator': ['NBCNews'], 'twitter_card': ['summary_large_image'], 'fb_app_id': [10150138890205613], 'dc_title': ['California Residents Allowed to Return Home After Dam Spurs Evacuation - NBC News'], 'og_site_name': ['NBC News'], 'twitter_title': ['California residents allowed to return home after dam spurs evacuation'], 'stream_size': [109969], 'og_type': ['article'], 'x_ua_compatible': ['IE=edge'], 'twitter_site': ['NBCNews'], 'news_keywords': ['News,U.S. news'], 'og_title': ['California residents allowed to return home after dam spurs evacuation'], '_version_': 1563864805711806464, 'og_description': ['An evacuation order for communities near the Oroville Dam was reduced to an evacuation warning at 1 p.m. PT Tuesday, allowing residents to return.'], 'description': ['An evacuation order for communities near the Oroville Dam was reduced to an evacuation warning at 1 p.m. PT Tuesday, allowing residents to return.'], 'resourcename': ['/home/angus/work/mastercourse/572/hw4/NBCNewsData/NBCNewsDownloadData/3ded960c-28c8-4dfb-824f-a6eaf1cd2321.html'], 'x_parsed_by': ['org.apache.tika.parser.DefaultParser', 'org.apache.tika.parser.html.HtmlParser'], 'viewport': ['width=device-width, initial-scale=1'], 'twitter_description': ['An evacuation order for communities near the Oroville Dam was reduced to an evacuation warning at 1 p.m. PT Tuesday, allowing residents to return.'], 'google_site_verification': ['dMf4cxtcxKlWchKvPlULwDZi8XpI9-ARqe8j2mGmi4Y', 'K8bowvEbzWfPQ76x6f9SCxMVwicVXrhiClRg80ak8ZA', 'G4SGIUDh2TcgDVNjuleQ-Humwb3JAZaQD9Vg42Stfn8'], 'id': '/home/angus/work/mastercourse/572/hw4/NBCNewsData/NBCNewsDownloadData/3ded960c-28c8-4dfb-824f-a6eaf1cd2321.html', 'twitter_image': ['http://media1.s-nbcnews.com/j/newscms/2017_07/1901676/170214-oroville-dam-spillway-935a_d0c0fc247239ea9c82b451981e5435d2.nbcnews-fp-1200-800.jpg'], 'blitz': ['mu-e1e842c9-946002e6-ea8f0454-41b29546'], 'article_author': ['https://www.facebook.com/NBCNews'], 'og_image': ['http://media1.s-nbcnews.com/j/newscms/2017_07/1901676/170214-oroville-dam-spillway-935a_d0c0fc247239ea9c82b451981e5435d2.nbcnews-fp-1200-800.jpg'], 'og_url': ['http://www.nbcnews.com/news/us-news/officials-race-against-rains-prevent-california-dam-disaster-n720521'], 'content_encoding': ['UTF-8'], 'stream_content_type': ['text/html']}, {'apple_itunes_app': ['app-id=319740707, app-argument=http://www.nbcnews.com/slideshow/crippled-oroville-dam-threatens-gold-rush-town-n720991'], 'dc_date_issued': ['2017-02-15T00:00:00Z'], 'content_type': ['text/html; charset=UTF-8'], 'title': ['Crippled Oroville Dam Threatens Gold Rush Town - NBC News'], 'twitter_creator': ['NBCNews'], 'twitter_card': ['summary_large_image'], 'fb_app_id': [10150138890205613], 'dc_title': ['Crippled Oroville Dam Threatens Gold Rush Town - NBC News'], 'og_site_name': ['NBC News'], 'twitter_title': ['Crippled Oroville Dam Threatens Gold Rush Town'], 'stream_size': [102536], 'og_type': ['article'], 'x_ua_compatible': ['IE=edge'], 'twitter_site': ['NBCNews'], 'news_keywords': ['News,U.S. news,Environment,Environment,Photo,Weather'], 'og_title': ['Crippled Oroville Dam Threatens Gold Rush Town'], '_version_': 1563864483276783616, 'og_description': ['Crews working nonstop atop a crippled California dam reported progress in repairing the damaged spillway and reducing the water levels.'], 'description': ['Crews working nonstop atop a crippled California dam reported progress in repairing the damaged spillway and reducing the water levels.'], 'resourcename': ['/home/angus/work/mastercourse/572/hw4/NBCNewsData/NBCNewsDownloadData/8c358e92-9b18-4dcc-b687-0d883455abcb.html'], 'x_parsed_by': ['org.apache.tika.parser.DefaultParser', 'org.apache.tika.parser.html.HtmlParser'], 'viewport': ['width=device-width, initial-scale=1'], 'twitter_description': ['Crews working nonstop atop a crippled California dam reported progress in repairing the damaged spillway and reducing the water levels.'], 'google_site_verification': ['dMf4cxtcxKlWchKvPlULwDZi8XpI9-ARqe8j2mGmi4Y', 'K8bowvEbzWfPQ76x6f9SCxMVwicVXrhiClRg80ak8ZA', 'G4SGIUDh2TcgDVNjuleQ-Humwb3JAZaQD9Vg42Stfn8'], 'id': '/home/angus/work/mastercourse/572/hw4/NBCNewsData/NBCNewsDownloadData/8c358e92-9b18-4dcc-b687-0d883455abcb.html', 'twitter_image': ['http://media1.s-nbcnews.com/j/newscms/2017_07/1902186/ss-170214-oroville-dam-california-02_21410df06e25cbf1b6cdf231903787a8.nbcnews-fp-1200-800.jpg'], 'blitz': ['mu-e1e842c9-946002e6-ea8f0454-41b29546'], 'article_author': ['https://www.facebook.com/NBCNews'], 'og_image': ['http://media1.s-nbcnews.com/j/newscms/2017_07/1902186/ss-170214-oroville-dam-california-02_21410df06e25cbf1b6cdf231903787a8.nbcnews-fp-1200-800.jpg'], 'og_url': ['http://www.nbcnews.com/slideshow/crippled-oroville-dam-threatens-gold-rush-town-n720991'], 'content_encoding': ['UTF-8'], 'stream_content_type': ['text/html']}, {'apple_itunes_app': ['app-id=319740707, app-argument=http://www.nbcnews.com/news/us-news/michigan-state-suspends-gymnastics-coach-accused-ignoring-abuse-claim-n720436'], 'dc_date_issued': ['2017-02-14T00:00:00Z'], 'content_type': ['text/html; charset=UTF-8'], 'title': ['Michigan State Suspends Gymnastics Coach Accused of Ignoring Abuse Claim - NBC News'], 'twitter_creator': ['NBCNews'], 'twitter_card': ['summary_large_image'], 'fb_app_id': [10150138890205613], 'dc_title': ['Michigan State Suspends Gymnastics Coach Accused of Ignoring Abuse Claim - NBC News'], 'og_site_name': ['NBC News'], 'twitter_title': ['Michigan State suspends gymnastics coach accused of ignoring abuse claim'], 'stream_size': [104779], 'og_type': ['article'], 'x_ua_compatible': ['IE=edge'], 'twitter_site': ['NBCNews'], 'news_keywords': ['News,U.S. news,Crime & Courts,Education,Investigations,Olympics,Sports'], 'og_title': ['Michigan State suspends gymnastics coach accused of ignoring abuse claim'], '_version_': 1563864545638744064, 'og_description': [\"The school didn't say why it took action against Kathie Klages or whether it's related to the sex-abuse scandal.\"], 'description': [\"The school didn't say why it took action against Kathie Klages or whether it's related to the sex-abuse scandal.\"], 'resourcename': ['/home/angus/work/mastercourse/572/hw4/NBCNewsData/NBCNewsDownloadData/a62fcb96-7c1b-4b8b-8be7-38346f577c61.html'], 'x_parsed_by': ['org.apache.tika.parser.DefaultParser', 'org.apache.tika.parser.html.HtmlParser'], 'viewport': ['width=device-width, initial-scale=1'], 'twitter_description': [\"The school didn't say why it took action against Kathie Klages or whether it's related to the sex-abuse scandal.\"], 'google_site_verification': ['dMf4cxtcxKlWchKvPlULwDZi8XpI9-ARqe8j2mGmi4Y', 'K8bowvEbzWfPQ76x6f9SCxMVwicVXrhiClRg80ak8ZA', 'G4SGIUDh2TcgDVNjuleQ-Humwb3JAZaQD9Vg42Stfn8'], 'id': '/home/angus/work/mastercourse/572/hw4/NBCNewsData/NBCNewsDownloadData/a62fcb96-7c1b-4b8b-8be7-38346f577c61.html', 'twitter_image': ['http://media2.s-nbcnews.com/j/newscms/2017_05/1890786/170203-msu-rhk-01_9d4bf71dd4395e1b50c7238a8bcea12e.nbcnews-fp-1200-800.jpg'], 'blitz': ['mu-e1e842c9-946002e6-ea8f0454-41b29546'], 'article_author': ['https://www.facebook.com/tracyconnoratnbc'], 'og_image': ['http://media2.s-nbcnews.com/j/newscms/2017_05/1890786/170203-msu-rhk-01_9d4bf71dd4395e1b50c7238a8bcea12e.nbcnews-fp-1200-800.jpg'], 'og_url': ['http://www.nbcnews.com/news/us-news/michigan-state-suspends-gymnastics-coach-accused-ignoring-abuse-claim-n720436'], 'content_encoding': ['UTF-8'], 'stream_content_type': ['text/html']}, {'id': '/home/angus/work/mastercourse/572/hw4/NBCNewsData/NBCNewsDownloadData/8c1416cc-2ea5-4a4c-925c-82b604d2e143.html', 'dc_title': ['NBCNews.com'], 'content_type': ['text/html; charset=UTF-8'], 'stream_size': [16899], 'title': ['NBCNews.com'], 'resourcename': ['/home/angus/work/mastercourse/572/hw4/NBCNewsData/NBCNewsDownloadData/8c1416cc-2ea5-4a4c-925c-82b604d2e143.html'], 'x_parsed_by': ['org.apache.tika.parser.DefaultParser', 'org.apache.tika.parser.html.HtmlParser'], 'content_encoding': ['UTF-8'], 'stream_content_type': ['text/html'], '_version_': 1563864318385061888}, {'apple_itunes_app': ['app-id=319740707, app-argument=http://www.nbcnews.com/news/us-news/gymnastics-doctor-larry-nassar-hit-child-porn-cover-charge-n718046'], 'dc_date_issued': ['2017-02-07T00:00:00Z'], 'content_type': ['text/html; charset=UTF-8'], 'title': ['Gymnastics Doctor Larry Nassar Hit With Child Porn Cover-Up Charge - NBC News'], 'twitter_creator': ['NBCNews'], 'twitter_card': ['summary_large_image'], 'fb_app_id': [10150138890205613], 'dc_title': ['Gymnastics Doctor Larry Nassar Hit With Child Porn Cover-Up Charge - NBC News'], 'og_site_name': ['NBC News'], 'twitter_title': ['Gymnastics doctor at center of sex abuse scandal faces cover-up charge'], 'stream_size': [92266], 'og_type': ['article'], 'x_ua_compatible': ['IE=edge'], 'twitter_site': ['NBCNews'], 'news_keywords': ['News,U.S. news,Crime & Courts,Investigations,Olympics,Sports'], 'og_title': ['Gymnastics doctor at center of sex abuse scandal faces cover-up charge'], '_version_': 1563864405686353920, 'og_description': ['A new indictment says Larry Nassar deleted files and trashed hard drives amid a child pornography probe.'], 'description': ['A new indictment says Larry Nassar deleted files and trashed hard drives amid a child pornography probe.'], 'resourcename': ['/home/angus/work/mastercourse/572/hw4/NBCNewsData/NBCNewsDownloadData/766d09e2-fa56-48c1-8a1a-b7573e3188d1.html'], 'x_parsed_by': ['org.apache.tika.parser.DefaultParser', 'org.apache.tika.parser.html.HtmlParser'], 'viewport': ['width=device-width, initial-scale=1'], 'twitter_description': ['A new indictment says Larry Nassar deleted files and trashed hard drives amid a child pornography probe.'], 'google_site_verification': ['dMf4cxtcxKlWchKvPlULwDZi8XpI9-ARqe8j2mGmi4Y', 'K8bowvEbzWfPQ76x6f9SCxMVwicVXrhiClRg80ak8ZA', 'G4SGIUDh2TcgDVNjuleQ-Humwb3JAZaQD9Vg42Stfn8'], 'id': '/home/angus/work/mastercourse/572/hw4/NBCNewsData/NBCNewsDownloadData/766d09e2-fa56-48c1-8a1a-b7573e3188d1.html', 'twitter_image': ['http://media4.s-nbcnews.com/j/newscms/2017_04/1877391/170124-larry-nassar-mn-1435_24b50c9833c9f3b380bab2e988de9e7d.nbcnews-fp-1200-800.jpg'], 'blitz': ['mu-e1e842c9-946002e6-ea8f0454-41b29546'], 'article_author': ['https://www.facebook.com/tracyconnoratnbc'], 'og_image': ['http://media4.s-nbcnews.com/j/newscms/2017_04/1877391/170124-larry-nassar-mn-1435_24b50c9833c9f3b380bab2e988de9e7d.nbcnews-fp-1200-800.jpg'], 'og_url': ['http://www.nbcnews.com/news/us-news/gymnastics-doctor-larry-nassar-hit-child-porn-cover-charge-n718046'], 'content_encoding': ['UTF-8'], 'stream_content_type': ['text/html']}, {'apple_itunes_app': ['app-id=319740707, app-argument=http://www.nbcnews.com/nightly-news/video/northeast-being-hit-by-another-winter-storm-876422723800'], 'twitter_creator': ['NBCNews'], 'content_type': ['text/html; charset=UTF-8'], 'title': ['Northeast Being Hit by Another Winter Storm - NBC News'], 'twitter_card': ['summary'], 'fb_app_id': [10150138890205613], 'dc_title': ['Northeast Being Hit by Another Winter Storm - NBC News'], 'og_site_name': ['NBC News'], 'twitter_title': ['Northeast Being Hit by Another Winter Storm'], 'stream_size': [503159], 'og_type': ['article'], 'x_ua_compatible': ['IE=edge'], 'twitter_site': ['NBCNews'], 'news_keywords': ['Nightly News'], 'og_title': ['Northeast Being Hit by Another Winter Storm'], '_version_': 1563864409664651264, 'og_description': ['Millions across New England are expecting up to two feet of snow on top of last week�s storm.'], 'description': ['Millions across New England are expecting up to two feet of snow on top of last week�s storm.'], 'resourcename': ['/home/angus/work/mastercourse/572/hw4/NBCNewsData/NBCNewsDownloadData/977a33e2-b234-41b8-9ce3-6f27e7b86439.html'], 'x_parsed_by': ['org.apache.tika.parser.DefaultParser', 'org.apache.tika.parser.html.HtmlParser'], 'viewport': ['width=device-width, initial-scale=1'], 'twitter_description': ['Millions across New England are expecting up to two feet of snow on top of last week�s storm.'], 'google_site_verification': ['dMf4cxtcxKlWchKvPlULwDZi8XpI9-ARqe8j2mGmi4Y', 'K8bowvEbzWfPQ76x6f9SCxMVwicVXrhiClRg80ak8ZA', 'G4SGIUDh2TcgDVNjuleQ-Humwb3JAZaQD9Vg42Stfn8'], 'id': '/home/angus/work/mastercourse/572/hw4/NBCNewsData/NBCNewsDownloadData/977a33e2-b234-41b8-9ce3-6f27e7b86439.html', 'twitter_image': ['http://media3.s-nbcnews.com/i/MSNBC/Components/Video/201702/2017-02-14T00-08-56-333Z--1280x720.jpg'], 'blitz': ['mu-e1e842c9-946002e6-ea8f0454-41b29546'], 'og_image': ['http://media3.s-nbcnews.com/i/MSNBC/Components/Video/201702/2017-02-14T00-08-56-333Z--1280x720.jpg'], 'og_url': ['http://www.nbcnews.com/nightly-news/video/northeast-being-hit-by-another-winter-storm-876422723800'], 'content_encoding': ['UTF-8'], 'stream_content_type': ['text/html']}, {'apple_itunes_app': ['app-id=319740707, app-argument=http://www.nbcnews.com/nightly-news/video/inspiring-america-wwii-vet-gets-home-makeover-thanks-to-kindness-of-strangers-876436035692'], 'twitter_creator': ['NBCNews'], 'content_type': ['text/html; charset=UTF-8'], 'title': ['Inspiring America: WWII Vet Gets Home Makeover Thanks to Kindness of Strangers - NBC News'], 'twitter_card': ['summary'], 'fb_app_id': [10150138890205613], 'dc_title': ['Inspiring America: WWII Vet Gets Home Makeover Thanks to Kindness of Strangers - NBC News'], 'og_site_name': ['NBC News'], 'twitter_title': ['Inspiring America: WWII Vet Gets Home Makeover Thanks to Kindness of Strangers'], 'stream_size': [504354], 'og_type': ['article'], 'x_ua_compatible': ['IE=edge'], 'twitter_site': ['NBCNews'], 'news_keywords': ['Nightly News'], 'og_title': ['Inspiring America: WWII Vet Gets Home Makeover Thanks to Kindness of Strangers'], '_version_': 1563864251075919872, 'og_description': ['Instead of handing out a ticket, a California code enforcement officer rallied his community to help fix up the house of a 90-year-old World War II veteran.'], 'description': ['Instead of handing out a ticket, a California code enforcement officer rallied his community to help fix up the house of a 90-year-old World War II veteran.'], 'resourcename': ['/home/angus/work/mastercourse/572/hw4/NBCNewsData/NBCNewsDownloadData/45023049-87ac-41b5-b473-bc6d31ad10e4.html'], 'x_parsed_by': ['org.apache.tika.parser.DefaultParser', 'org.apache.tika.parser.html.HtmlParser'], 'viewport': ['width=device-width, initial-scale=1'], 'twitter_description': ['Instead of handing out a ticket, a California code enforcement officer rallied his community to help fix up the house of a 90-year-old World War II veteran.'], 'google_site_verification': ['dMf4cxtcxKlWchKvPlULwDZi8XpI9-ARqe8j2mGmi4Y', 'K8bowvEbzWfPQ76x6f9SCxMVwicVXrhiClRg80ak8ZA', 'G4SGIUDh2TcgDVNjuleQ-Humwb3JAZaQD9Vg42Stfn8'], 'id': '/home/angus/work/mastercourse/572/hw4/NBCNewsData/NBCNewsDownloadData/45023049-87ac-41b5-b473-bc6d31ad10e4.html', 'twitter_image': ['http://media4.s-nbcnews.com/i/MSNBC/Components/Video/201702/2017-02-13T23-58-48-266Z--1280x720.jpg'], 'blitz': ['mu-e1e842c9-946002e6-ea8f0454-41b29546'], 'og_image': ['http://media4.s-nbcnews.com/i/MSNBC/Components/Video/201702/2017-02-13T23-58-48-266Z--1280x720.jpg'], 'og_url': ['http://www.nbcnews.com/nightly-news/video/inspiring-america-wwii-vet-gets-home-makeover-thanks-to-kindness-of-strangers-876436035692'], 'content_encoding': ['UTF-8'], 'stream_content_type': ['text/html']}, {'apple_itunes_app': ['app-id=319740707, app-argument=http://www.nbcnews.com/nightly-news/video/etan-patz-case-man-found-guilty-of-murder-kidnapping-877321283542'], 'twitter_creator': ['NBCNews'], 'content_type': ['text/html; charset=UTF-8'], 'title': ['Etan Patz Case: Man Found Guilty of Murder, Kidnapping - NBC News'], 'twitter_card': ['summary'], 'fb_app_id': [10150138890205613], 'dc_title': ['Etan Patz Case: Man Found Guilty of Murder, Kidnapping - NBC News'], 'og_site_name': ['NBC News'], 'twitter_title': ['Etan Patz Case: Man Found Guilty of Murder, Kidnapping'], 'stream_size': [503814], 'og_type': ['article'], 'x_ua_compatible': ['IE=edge'], 'twitter_site': ['NBCNews'], 'news_keywords': ['Nightly News'], 'og_title': ['Etan Patz Case: Man Found Guilty of Murder, Kidnapping'], '_version_': 1563864333117554688, 'og_description': ['Pedro Hernandez was found guilty of murdering Etan Patz, the 6-year-old who was the first missing child to appear on milk cartons after he disappeared in 1979.'], 'description': ['Pedro Hernandez was found guilty of murdering Etan Patz, the 6-year-old who was the first missing child to appear on milk cartons after he disappeared in 1979.'], 'resourcename': ['/home/angus/work/mastercourse/572/hw4/NBCNewsData/NBCNewsDownloadData/5a35f97b-fae2-491a-b8ae-adc6e2d701df.html'], 'x_parsed_by': ['org.apache.tika.parser.DefaultParser', 'org.apache.tika.parser.html.HtmlParser'], 'viewport': ['width=device-width, initial-scale=1'], 'twitter_description': ['Pedro Hernandez was found guilty of murdering Etan Patz, the 6-year-old who was the first missing child to appear on milk cartons after he disappeared in 1979.'], 'google_site_verification': ['dMf4cxtcxKlWchKvPlULwDZi8XpI9-ARqe8j2mGmi4Y', 'K8bowvEbzWfPQ76x6f9SCxMVwicVXrhiClRg80ak8ZA', 'G4SGIUDh2TcgDVNjuleQ-Humwb3JAZaQD9Vg42Stfn8'], 'id': '/home/angus/work/mastercourse/572/hw4/NBCNewsData/NBCNewsDownloadData/5a35f97b-fae2-491a-b8ae-adc6e2d701df.html', 'twitter_image': ['http://media2.s-nbcnews.com/i/MSNBC/Components/Video/201702/2017-02-14T23-42-04-033Z--1280x720.jpg'], 'blitz': ['mu-e1e842c9-946002e6-ea8f0454-41b29546'], 'og_image': ['http://media2.s-nbcnews.com/i/MSNBC/Components/Video/201702/2017-02-14T23-42-04-033Z--1280x720.jpg'], 'og_url': ['http://www.nbcnews.com/nightly-news/video/etan-patz-case-man-found-guilty-of-murder-kidnapping-877321283542'], 'content_encoding': ['UTF-8'], 'stream_content_type': ['text/html']}, {'apple_itunes_app': ['app-id=319740707, app-argument=http://www.nbcnews.com/nightly-news/video/fbi-interviewed-flynn-days-after-he-became-national-security-adviser-877306435782'], 'twitter_creator': ['NBCNews'], 'content_type': ['text/html; charset=UTF-8'], 'title': ['FBI Interviewed Flynn Days After He Became National Security Adviser - NBC News'], 'twitter_card': ['summary'], 'fb_app_id': [10150138890205613], 'dc_title': ['FBI Interviewed Flynn Days After He Became National Security Adviser - NBC News'], 'og_site_name': ['NBC News'], 'twitter_title': ['FBI Interviewed Flynn Days After He Became National Security Adviser'], 'stream_size': [504036], 'og_type': ['article'], 'x_ua_compatible': ['IE=edge'], 'twitter_site': ['NBCNews'], 'news_keywords': ['Nightly News'], 'og_title': ['FBI Interviewed Flynn Days After He Became National Security Adviser'], '_version_': 1563864286845992960, 'og_description': ['Officials say the interview was part of the FBI�s long-running investigation into Russia�s attempts to influence the presidential election.'], 'description': ['Officials say the interview was part of the FBI�s long-running investigation into Russia�s attempts to influence the presidential election.'], 'resourcename': ['/home/angus/work/mastercourse/572/hw4/NBCNewsData/NBCNewsDownloadData/ae04cfa3-9bec-4912-8ad6-d0aa7865231d.html'], 'x_parsed_by': ['org.apache.tika.parser.DefaultParser', 'org.apache.tika.parser.html.HtmlParser'], 'viewport': ['width=device-width, initial-scale=1'], 'twitter_description': ['Officials say the interview was part of the FBI�s long-running investigation into Russia�s attempts to influence the presidential election.'], 'google_site_verification': ['dMf4cxtcxKlWchKvPlULwDZi8XpI9-ARqe8j2mGmi4Y', 'K8bowvEbzWfPQ76x6f9SCxMVwicVXrhiClRg80ak8ZA', 'G4SGIUDh2TcgDVNjuleQ-Humwb3JAZaQD9Vg42Stfn8'], 'id': '/home/angus/work/mastercourse/572/hw4/NBCNewsData/NBCNewsDownloadData/ae04cfa3-9bec-4912-8ad6-d0aa7865231d.html', 'twitter_image': ['http://media1.s-nbcnews.com/i/MSNBC/Components/Video/201702/2017-02-14T23-38-04-966Z--1280x720.jpg'], 'blitz': ['mu-e1e842c9-946002e6-ea8f0454-41b29546'], 'og_image': ['http://media1.s-nbcnews.com/i/MSNBC/Components/Video/201702/2017-02-14T23-38-04-966Z--1280x720.jpg'], 'og_url': ['http://www.nbcnews.com/nightly-news/video/fbi-interviewed-flynn-days-after-he-became-national-security-adviser-877306435782'], 'content_encoding': ['UTF-8'], 'stream_content_type': ['text/html']}]\n"
     ]
    }
   ],
   "source": [
    "# print(a,b)\n",
    "# print(str(a),str(b))\n",
    "print(res.docs)"
   ]
  },
  {
   "cell_type": "code",
   "execution_count": 62,
   "metadata": {
    "collapsed": true
   },
   "outputs": [],
   "source": [
    "if isinstance(res.docs, str):\n",
    "    print('yes')"
   ]
  },
  {
   "cell_type": "code",
   "execution_count": 63,
   "metadata": {},
   "outputs": [
    {
     "data": {
      "text/plain": [
       "10"
      ]
     },
     "execution_count": 63,
     "metadata": {},
     "output_type": "execute_result"
    }
   ],
   "source": [
    "a = res.docs\n",
    "len(a)"
   ]
  },
  {
   "cell_type": "code",
   "execution_count": 64,
   "metadata": {},
   "outputs": [
    {
     "name": "stdout",
     "output_type": "stream",
     "text": [
      "{2}\n"
     ]
    }
   ],
   "source": [
    "a=set()\n",
    "b=set()\n",
    "a.update([1,2,3])\n",
    "b.update([2,4,5])\n",
    "print(a.intersection(b))"
   ]
  },
  {
   "cell_type": "code",
   "execution_count": null,
   "metadata": {
    "collapsed": true
   },
   "outputs": [],
   "source": []
  }
 ],
 "metadata": {
  "kernelspec": {
   "display_name": "Python 3",
   "language": "python",
   "name": "python3"
  },
  "language_info": {
   "codemirror_mode": {
    "name": "ipython",
    "version": 3
   },
   "file_extension": ".py",
   "mimetype": "text/x-python",
   "name": "python",
   "nbconvert_exporter": "python",
   "pygments_lexer": "ipython3",
   "version": "3.5.2"
  }
 },
 "nbformat": 4,
 "nbformat_minor": 2
}
